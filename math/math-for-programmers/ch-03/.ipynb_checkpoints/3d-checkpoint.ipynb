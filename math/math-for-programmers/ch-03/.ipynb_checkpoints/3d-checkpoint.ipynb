{
 "cells": [
  {
   "cell_type": "code",
   "execution_count": 2,
   "id": "b3dc4e61",
   "metadata": {},
   "outputs": [
    {
     "data": {
      "text/plain": [
       "13.0"
      ]
     },
     "execution_count": 2,
     "metadata": {},
     "output_type": "execute_result"
    }
   ],
   "source": [
    "from math import sqrt\n",
    "\n",
    "def length(v):\n",
    "\treturn sqrt(sum([coord ** 2 for coord in v]))\n",
    "    \n",
    "\n",
    "length((3, 4, 12))"
   ]
  },
  {
   "cell_type": "code",
   "execution_count": 3,
   "id": "2156257f",
   "metadata": {},
   "outputs": [
    {
     "ename": "SyntaxError",
     "evalue": "invalid syntax (2702851258.py, line 1)",
     "output_type": "error",
     "traceback": [
      "\u001b[0;36m  File \u001b[0;32m\"/tmp/ipykernel_9735/2702851258.py\"\u001b[0;36m, line \u001b[0;32m1\u001b[0m\n\u001b[0;31m    def scale\u001b[0m\n\u001b[0m             ^\u001b[0m\n\u001b[0;31mSyntaxError\u001b[0m\u001b[0;31m:\u001b[0m invalid syntax\n"
     ]
    }
   ],
   "source": [
    "# scales no matter the amount of dimensions\n",
    "def scale(scalar, v):\n",
    "    return tuple(scalar * cood for coord in v)\n",
    "    "
   ]
  },
  {
   "cell_type": "code",
   "execution_count": 6,
   "id": "dff03986",
   "metadata": {},
   "outputs": [
    {
     "data": {
      "text/plain": [
       "18"
      ]
     },
     "execution_count": 6,
     "metadata": {},
     "output_type": "execute_result"
    }
   ],
   "source": [
    "def dot(u, v):\n",
    "    return sum([coord1 * coord2 for coord1, coord2 in zip(u, v)])\n",
    "dot((1, 0), (0,1))\n",
    "\n",
    "dot((3, 4), (2, 3))"
   ]
  },
  {
   "cell_type": "code",
   "execution_count": 9,
   "id": "84a577af",
   "metadata": {},
   "outputs": [
    {
     "data": {
      "text/plain": [
       "36"
      ]
     },
     "execution_count": 9,
     "metadata": {},
     "output_type": "execute_result"
    }
   ],
   "source": [
    "def scale(scalar, v):\n",
    "    return (scalar * v[0], scalar * v[1])\n",
    "\n",
    "dot(scale(2, (3,4)), (2,3))"
   ]
  },
  {
   "cell_type": "code",
   "execution_count": 11,
   "id": "693458af",
   "metadata": {},
   "outputs": [
    {
     "data": {
      "text/plain": [
       "1.5529142706151244"
      ]
     },
     "execution_count": 11,
     "metadata": {},
     "output_type": "execute_result"
    }
   ],
   "source": [
    "from math import cos, pi\n",
    "3 * 2 * cos(75 * pi/ 180)"
   ]
  }
 ],
 "metadata": {
  "kernelspec": {
   "display_name": "Python 3 (ipykernel)",
   "language": "python",
   "name": "python3"
  },
  "language_info": {
   "codemirror_mode": {
    "name": "ipython",
    "version": 3
   },
   "file_extension": ".py",
   "mimetype": "text/x-python",
   "name": "python",
   "nbconvert_exporter": "python",
   "pygments_lexer": "ipython3",
   "version": "3.9.9"
  }
 },
 "nbformat": 4,
 "nbformat_minor": 5
}
