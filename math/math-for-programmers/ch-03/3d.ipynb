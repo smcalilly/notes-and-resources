{
 "cells": [
  {
   "cell_type": "code",
   "execution_count": 1,
   "id": "02bf69db",
   "metadata": {},
   "outputs": [
    {
     "data": {
      "text/plain": [
       "13.0"
      ]
     },
     "execution_count": 1,
     "metadata": {},
     "output_type": "execute_result"
    }
   ],
   "source": [
    "from math import sqrt\n",
    "\n",
    "def length(v):\n",
    "\treturn sqrt(sum([coord ** 2 for coord in v]))\n",
    "    \n",
    "\n",
    "length((3, 4, 12))"
   ]
  },
  {
   "cell_type": "code",
   "execution_count": 2,
   "id": "0063565b",
   "metadata": {},
   "outputs": [],
   "source": [
    "# scales no matter the amount of dimensions\n",
    "def scale(scalar, v):\n",
    "    return tuple(scalar * coord for coord in v)"
   ]
  },
  {
   "cell_type": "code",
   "execution_count": 6,
   "id": "36c1b339",
   "metadata": {},
   "outputs": [
    {
     "data": {
      "text/plain": [
       "18"
      ]
     },
     "execution_count": 6,
     "metadata": {},
     "output_type": "execute_result"
    }
   ],
   "source": [
    "def dot(u, v):\n",
    "    return sum([coord1 * coord2 for coord1, coord2 in zip(u, v)])\n",
    "dot((1, 0), (0,1))\n",
    "\n",
    "dot((3, 4), (2, 3))"
   ]
  },
  {
   "cell_type": "code",
   "execution_count": 3,
   "id": "a821ee44",
   "metadata": {},
   "outputs": [
    {
     "ename": "NameError",
     "evalue": "name 'dot' is not defined",
     "output_type": "error",
     "traceback": [
      "\u001b[0;31m---------------------------------------------------------------------------\u001b[0m",
      "\u001b[0;31mNameError\u001b[0m                                 Traceback (most recent call last)",
      "\u001b[0;32m/tmp/ipykernel_12153/2641551311.py\u001b[0m in \u001b[0;36m<module>\u001b[0;34m\u001b[0m\n\u001b[1;32m      2\u001b[0m \u001b[0;31m#     return (scalar * v[0], scalar * v[1])\u001b[0m\u001b[0;34m\u001b[0m\u001b[0;34m\u001b[0m\u001b[0m\n\u001b[1;32m      3\u001b[0m \u001b[0;34m\u001b[0m\u001b[0m\n\u001b[0;32m----> 4\u001b[0;31m \u001b[0mdot\u001b[0m\u001b[0;34m(\u001b[0m\u001b[0mscale\u001b[0m\u001b[0;34m(\u001b[0m\u001b[0;36m2\u001b[0m\u001b[0;34m,\u001b[0m \u001b[0;34m(\u001b[0m\u001b[0;36m3\u001b[0m\u001b[0;34m,\u001b[0m\u001b[0;36m4\u001b[0m\u001b[0;34m)\u001b[0m\u001b[0;34m)\u001b[0m\u001b[0;34m,\u001b[0m \u001b[0;34m(\u001b[0m\u001b[0;36m2\u001b[0m\u001b[0;34m,\u001b[0m\u001b[0;36m3\u001b[0m\u001b[0;34m)\u001b[0m\u001b[0;34m)\u001b[0m\u001b[0;34m\u001b[0m\u001b[0;34m\u001b[0m\u001b[0m\n\u001b[0m",
      "\u001b[0;31mNameError\u001b[0m: name 'dot' is not defined"
     ]
    }
   ],
   "source": [
    "# def scale(scalar, v):\n",
    "#     return (scalar * v[0], scalar * v[1])\n",
    "\n",
    "dot(scale(2, (3,4)), (2,3))"
   ]
  },
  {
   "cell_type": "code",
   "execution_count": null,
   "id": "00b7f648",
   "metadata": {},
   "outputs": [],
   "source": [
    "from math import cos, pi\n",
    "3 * 2 * cos(75 * pi/ 180)"
   ]
  },
  {
   "cell_type": "code",
   "execution_count": null,
   "id": "7449681a",
   "metadata": {},
   "outputs": [],
   "source": [
    "def cross(u, v):\n",
    "\tux, uy, uz = u\n",
    "\tvx, vy, vz = v\n",
    "\treturn (uy*vz - uz*vy, uz*vx - ux*vz, ux*vy - uy*vx)\n",
    "\n",
    "cross_product = cross((1, 0, 1), (-1, 0, 0))\n",
    "cross_product"
   ]
  },
  {
   "cell_type": "code",
   "execution_count": null,
   "id": "ddaec8d7",
   "metadata": {},
   "outputs": [],
   "source": [
    "def vertices(faces):\n",
    "    return list(set([vertext for face in faces for vertex in face]))\n",
    "\n",
    "def component(v, direction):\n",
    "    return (dot(v, direction) / length(direction))\n",
    "\n",
    "def vector_to_2d(v):\n",
    "    return (component(v, (1, 0, 0), component(v, (0, 1, 0))))\n",
    "\n",
    "def face_to_2d(face):\n",
    "    return [vector_to_2d(vertex) for vertex in face]\n",
    "\n",
    "def unit(v):\n",
    "    return scale(1./length(v), v)\n",
    "\n",
    "def normal(face):\n",
    "    return (cross(subtract(face[1], face[0]), subtract(face[2], face[0])))\n"
   ]
  },
  {
   "cell_type": "code",
   "execution_count": null,
   "id": "52f29edd",
   "metadata": {},
   "outputs": [],
   "source": []
  }
 ],
 "metadata": {
  "kernelspec": {
   "display_name": "Python 3 (ipykernel)",
   "language": "python",
   "name": "python3"
  },
  "language_info": {
   "codemirror_mode": {
    "name": "ipython",
    "version": 3
   },
   "file_extension": ".py",
   "mimetype": "text/x-python",
   "name": "python",
   "nbconvert_exporter": "python",
   "pygments_lexer": "ipython3",
   "version": "3.9.9"
  }
 },
 "nbformat": 4,
 "nbformat_minor": 5
}
