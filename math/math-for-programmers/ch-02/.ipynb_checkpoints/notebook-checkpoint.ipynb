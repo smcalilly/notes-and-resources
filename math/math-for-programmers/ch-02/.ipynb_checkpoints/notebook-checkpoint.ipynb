{
 "cells": [
  {
   "cell_type": "code",
   "execution_count": 1,
   "id": "0c2bb524",
   "metadata": {},
   "outputs": [
    {
     "data": {
      "text/plain": [
       "Point(x=3, y=4)"
      ]
     },
     "execution_count": 1,
     "metadata": {},
     "output_type": "execute_result"
    }
   ],
   "source": [
    "from collections import namedtuple\n",
    "\n",
    "\n",
    "Point = namedtuple('Point', 'x y')\n",
    "\n",
    "def add_vector(v1, v2):\n",
    "\treturn Point((v1.x + v2.x), v1.y + v2.y)\n",
    "\n",
    "vector_1 = Point(4, 3)\n",
    "vector_2 = Point(-1, 1)\n",
    "\n",
    "summed_vectors = add_vector(vector_1, vector_2)\n",
    "summed_vectors"
   ]
  },
  {
   "cell_type": "code",
   "execution_count": 5,
   "id": "db56dcf1",
   "metadata": {},
   "outputs": [
    {
     "data": {
      "text/plain": [
       "[Point(x=4, y=3), Point(x=-1, y=1), Point(x=3, y=4)]"
      ]
     },
     "execution_count": 5,
     "metadata": {},
     "output_type": "execute_result"
    }
   ],
   "source": [
    "vectors = [vector_1, vector_2, summed_vectors]\n",
    "vectors"
   ]
  },
  {
   "cell_type": "code",
   "execution_count": 10,
   "id": "6a73671f",
   "metadata": {},
   "outputs": [
    {
     "data": {
      "image/png": "[encoded data removed]",
      "text/plain": [
       "<Figure size 432x288 with 1 Axes>"
      ]
     },
     "metadata": {
      "needs_background": "light"
     },
     "output_type": "display_data"
    }
   ],
   "source": [
    "import matplotlib.pyplot as plt\n",
    "\n",
    "x_values = [v.x for v in vectors]\n",
    "y_values = [v.y for v in vectors]\n",
    "\n",
    "plt.scatter(x_values, y_values)\n",
    "plt.show()"
   ]
  },
  {
   "cell_type": "code",
   "execution_count": null,
   "id": "430996d2",
   "metadata": {},
   "outputs": [],
   "source": []
  },
  {
   "cell_type": "code",
   "execution_count": 11,
   "id": "bf4e0f0d",
   "metadata": {},
   "outputs": [
    {
     "data": {
      "text/plain": [
       "3.1622776601683795"
      ]
     },
     "execution_count": 11,
     "metadata": {},
     "output_type": "execute_result"
    }
   ],
   "source": [
    "from math import sqrt\n",
    "\n",
    "def length(v):\n",
    "\treturn sqrt(v[0]**2 + v[1]**2)\n",
    "\n",
    "difference = (-3, 1)\n",
    "\n",
    "distance = length(difference)\n",
    "distance"
   ]
  },
  {
   "cell_type": "code",
   "execution_count": 21,
   "id": "50905059",
   "metadata": {},
   "outputs": [
    {
     "data": {
      "text/plain": [
       "(3.5, 2.5)"
      ]
     },
     "execution_count": 21,
     "metadata": {},
     "output_type": "execute_result"
    }
   ],
   "source": [
    "def add_vectors(vectors):\n",
    "    return (sum([v[0] for v in vectors]), sum([v[1] for v in vectors]))\n",
    "\n",
    "vectors = [(-2, 0), (1.5, 1.5), (4, 1)]\n",
    "\n",
    "vector_sum = add_vectors(vectors)\n",
    "vector_sum"
   ]
  },
  {
   "cell_type": "code",
   "execution_count": 24,
   "id": "4308a86f",
   "metadata": {},
   "outputs": [
    {
     "data": {
      "text/plain": [
       "[(1, 1), (1, 2), (-2, -2)]"
      ]
     },
     "execution_count": 24,
     "metadata": {},
     "output_type": "execute_result"
    }
   ],
   "source": [
    "def translate(translation, vectors):\n",
    "    return [add_vectors([translation, v]) for v in vectors]\n",
    "\n",
    "translation = (1, 1)\n",
    "vectors = [(0, 0), (0, 1), (-3, -3)]\n",
    "t = translate(translation, vectors)\n",
    "t"
   ]
  },
  {
   "cell_type": "code",
   "execution_count": 25,
   "id": "e3df7c13",
   "metadata": {},
   "outputs": [],
   "source": [
    "def scale(scalar, v):\n",
    "    return (scalar * v[0], scalar * v[1])\n",
    "\n",
    "def subtract(v1, v2):\n",
    "    return (v1[0] - v2[0], v1[1] - v2[1])"
   ]
  },
  {
   "cell_type": "code",
   "execution_count": 28,
   "id": "2c865868",
   "metadata": {},
   "outputs": [
    {
     "data": {
      "text/plain": [
       "8.06225774829855"
      ]
     },
     "execution_count": 28,
     "metadata": {},
     "output_type": "execute_result"
    }
   ],
   "source": [
    "# write a function distance(v1, v2) that returns the distance between two input vectors\n",
    "# the subtract function already gives the displacement\n",
    "\n",
    "def distance(v1, v2):\n",
    "    return length(subtract(v1, v2))\n",
    "\n",
    "d = distance((1, 5), (-7, 6))\n",
    "d"
   ]
  },
  {
   "cell_type": "code",
   "execution_count": 29,
   "id": "b7e5f46d",
   "metadata": {},
   "outputs": [
    {
     "data": {
      "text/plain": [
       "4.0"
      ]
     },
     "execution_count": 29,
     "metadata": {},
     "output_type": "execute_result"
    }
   ],
   "source": [
    "# for perimeter, sum the distances of every pair of subsequent vectors \n",
    "# in the list, as well as the pair of the first and last vectors\n",
    "\n",
    "def perimeter(vectors):\n",
    "    distances = [distance(vectors[i], vectors[(i+1)%len(vectors)])\n",
    "                for i in range(0, len(vectors))]\n",
    "    return sum(distances)\n",
    "\n",
    "p = perimeter([(1, 0), (1, 1), (0, 1), (0, 0)])\n",
    "p"
   ]
  },
  {
   "cell_type": "code",
   "execution_count": 30,
   "id": "40386ad2",
   "metadata": {},
   "outputs": [
    {
     "data": {
      "text/plain": [
       "1.6197751905438615"
      ]
     },
     "execution_count": 30,
     "metadata": {},
     "output_type": "execute_result"
    }
   ],
   "source": [
    "from math import tan, pi\n",
    "tan(45)"
   ]
  },
  {
   "cell_type": "code",
   "execution_count": 33,
   "id": "8cf822b7",
   "metadata": {},
   "outputs": [
    {
     "data": {
      "text/plain": [
       "0.9999999999999999"
      ]
     },
     "execution_count": 33,
     "metadata": {},
     "output_type": "execute_result"
    }
   ],
   "source": [
    "from math import pi\n",
    "tan(pi / 4)"
   ]
  },
  {
   "cell_type": "code",
   "execution_count": 16,
   "id": "ab760401",
   "metadata": {},
   "outputs": [
    {
     "name": "stdout",
     "output_type": "stream",
     "text": [
      "0.6457718232379019\n"
     ]
    },
    {
     "data": {
      "text/plain": [
       "(11.979532650709393, 9.027225347280725)"
      ]
     },
     "execution_count": 16,
     "metadata": {},
     "output_type": "execute_result"
    }
   ],
   "source": [
    "from math import sin, cos\n",
    "\n",
    "def to_cartesian(polar_vectors):\n",
    "    length, angle = polar_vectors[0], polar_vectors[1]\n",
    "    return (length*cos(angle), length*sin(angle))\n",
    "\n",
    "angle = 37 * pi / 180\n",
    "print(angle)\n",
    "# to_cartesian((5, angle))\n",
    "angle = 37 * pi / 180\n",
    "to_cartesian((15, angle))"
   ]
  },
  {
   "cell_type": "code",
   "execution_count": 35,
   "id": "85303b09",
   "metadata": {},
   "outputs": [
    {
     "data": {
      "text/plain": [
       "0.8414709848078965"
      ]
     },
     "execution_count": 35,
     "metadata": {},
     "output_type": "execute_result"
    }
   ],
   "source": [
    "from math import asin\n",
    "sin(1)"
   ]
  },
  {
   "cell_type": "code",
   "execution_count": 36,
   "id": "7fb30354",
   "metadata": {},
   "outputs": [
    {
     "data": {
      "text/plain": [
       "1.0"
      ]
     },
     "execution_count": 36,
     "metadata": {},
     "output_type": "execute_result"
    }
   ],
   "source": [
    "asin(0.8414709848078965)"
   ]
  },
  {
   "cell_type": "code",
   "execution_count": 37,
   "id": "979ee83e",
   "metadata": {},
   "outputs": [
    {
     "data": {
      "text/plain": [
       "0.9827937232473292"
      ]
     },
     "execution_count": 37,
     "metadata": {},
     "output_type": "execute_result"
    }
   ],
   "source": [
    "from math import sqrt\n",
    "asin(3/sqrt(13))"
   ]
  },
  {
   "cell_type": "code",
   "execution_count": 38,
   "id": "3b687050",
   "metadata": {},
   "outputs": [
    {
     "data": {
      "text/plain": [
       "2.1587989303424644"
      ]
     },
     "execution_count": 38,
     "metadata": {},
     "output_type": "execute_result"
    }
   ],
   "source": [
    "from math import acos\n",
    "acos(-2/sqrt(13))"
   ]
  },
  {
   "cell_type": "code",
   "execution_count": 39,
   "id": "1c3420b7",
   "metadata": {},
   "outputs": [
    {
     "data": {
      "text/plain": [
       "2.158798930342464"
      ]
     },
     "execution_count": 39,
     "metadata": {},
     "output_type": "execute_result"
    }
   ],
   "source": [
    "from math import atan2\n",
    "atan2(3, -2)"
   ]
  },
  {
   "cell_type": "code",
   "execution_count": 43,
   "id": "0cd8b95a",
   "metadata": {},
   "outputs": [
    {
     "data": {
      "text/plain": [
       "(1.0, 0.0)"
      ]
     },
     "execution_count": 43,
     "metadata": {},
     "output_type": "execute_result"
    }
   ],
   "source": [
    "def to_polar(vector):\n",
    "    x, y = vector[0], vector[1]\n",
    "    angle = atan2(y, x)\n",
    "    return (length(vector), angle)\n",
    "\n",
    "to_polar((1, 0))"
   ]
  },
  {
   "cell_type": "code",
   "execution_count": 44,
   "id": "ecd4b9e4",
   "metadata": {},
   "outputs": [
    {
     "data": {
      "text/plain": [
       "(3.605551275463989, 2.158798930342464)"
      ]
     },
     "execution_count": 44,
     "metadata": {},
     "output_type": "execute_result"
    }
   ],
   "source": [
    "to_polar((-2, 3))"
   ]
  },
  {
   "cell_type": "code",
   "execution_count": 10,
   "id": "64aeb62e",
   "metadata": {},
   "outputs": [
    {
     "data": {
      "text/plain": [
       "2.9963310898497184"
      ]
     },
     "execution_count": 10,
     "metadata": {},
     "output_type": "execute_result"
    }
   ],
   "source": [
    "from math import sqrt\n",
    "def length(v):\n",
    "\treturn sqrt(v[0]**2 + v[1]**2)\n",
    "\n",
    "length((-1.34, 2.68))"
   ]
  },
  {
   "cell_type": "code",
   "execution_count": 12,
   "id": "8cd76b20",
   "metadata": {},
   "outputs": [
    {
     "data": {
      "text/plain": [
       "0.00885165604168446"
      ]
     },
     "execution_count": 12,
     "metadata": {},
     "output_type": "execute_result"
    }
   ],
   "source": [
    "from math import tan\n",
    "tan(22)"
   ]
  },
  {
   "cell_type": "code",
   "execution_count": 17,
   "id": "c64dc5d0",
   "metadata": {},
   "outputs": [
    {
     "ename": "NameError",
     "evalue": "name 'to_polar' is not defined",
     "output_type": "error",
     "traceback": [
      "\u001b[0;31m---------------------------------------------------------------------------\u001b[0m",
      "\u001b[0;31mNameError\u001b[0m                                 Traceback (most recent call last)",
      "\u001b[0;32m/tmp/ipykernel_7355/3403585328.py\u001b[0m in \u001b[0;36m<module>\u001b[0;34m\u001b[0m\n\u001b[1;32m      7\u001b[0m \u001b[0mv\u001b[0m \u001b[0;34m=\u001b[0m \u001b[0;34m[\u001b[0m\u001b[0;34m(\u001b[0m\u001b[0;36m1\u001b[0m\u001b[0;34m,\u001b[0m \u001b[0;36m1\u001b[0m\u001b[0;34m)\u001b[0m\u001b[0;34m,\u001b[0m \u001b[0;34m(\u001b[0m\u001b[0;36m1\u001b[0m\u001b[0;34m,\u001b[0m \u001b[0;36m2\u001b[0m\u001b[0;34m)\u001b[0m\u001b[0;34m,\u001b[0m \u001b[0;34m(\u001b[0m\u001b[0;36m0\u001b[0m\u001b[0;34m,\u001b[0m \u001b[0;36m2\u001b[0m\u001b[0;34m)\u001b[0m\u001b[0;34m,\u001b[0m \u001b[0;34m(\u001b[0m\u001b[0;34m-\u001b[0m\u001b[0;36m1\u001b[0m\u001b[0;34m,\u001b[0m \u001b[0;36m2\u001b[0m\u001b[0;34m)\u001b[0m\u001b[0;34m,\u001b[0m \u001b[0;34m(\u001b[0m\u001b[0;34m-\u001b[0m\u001b[0;36m1\u001b[0m\u001b[0;34m,\u001b[0m \u001b[0;36m1\u001b[0m\u001b[0;34m)\u001b[0m\u001b[0;34m,\u001b[0m \u001b[0;34m(\u001b[0m\u001b[0;34m-\u001b[0m\u001b[0;36m1\u001b[0m\u001b[0;34m,\u001b[0m \u001b[0;36m0\u001b[0m\u001b[0;34m)\u001b[0m\u001b[0;34m,\u001b[0m \u001b[0;34m(\u001b[0m\u001b[0;34m-\u001b[0m\u001b[0;36m1\u001b[0m\u001b[0;34m,\u001b[0m \u001b[0;34m-\u001b[0m\u001b[0;36m1\u001b[0m\u001b[0;34m)\u001b[0m\u001b[0;34m,\u001b[0m \u001b[0;34m(\u001b[0m\u001b[0;34m-\u001b[0m\u001b[0;36m1\u001b[0m\u001b[0;34m,\u001b[0m \u001b[0;34m-\u001b[0m\u001b[0;36m2\u001b[0m\u001b[0;34m)\u001b[0m\u001b[0;34m,\u001b[0m \u001b[0;34m(\u001b[0m\u001b[0;36m0\u001b[0m\u001b[0;34m,\u001b[0m \u001b[0;34m-\u001b[0m\u001b[0;36m2\u001b[0m\u001b[0;34m)\u001b[0m\u001b[0;34m,\u001b[0m \u001b[0;34m(\u001b[0m\u001b[0;36m1\u001b[0m\u001b[0;34m,\u001b[0m \u001b[0;34m-\u001b[0m\u001b[0;36m2\u001b[0m\u001b[0;34m)\u001b[0m\u001b[0;34m,\u001b[0m \u001b[0;34m(\u001b[0m\u001b[0;36m1\u001b[0m\u001b[0;34m,\u001b[0m \u001b[0;34m-\u001b[0m\u001b[0;36m1\u001b[0m\u001b[0;34m)\u001b[0m\u001b[0;34m,\u001b[0m \u001b[0;34m(\u001b[0m\u001b[0;36m1\u001b[0m\u001b[0;34m,\u001b[0m \u001b[0;36m0\u001b[0m\u001b[0;34m)\u001b[0m\u001b[0;34m]\u001b[0m\u001b[0;34m\u001b[0m\u001b[0;34m\u001b[0m\u001b[0m\n\u001b[1;32m      8\u001b[0m \u001b[0;34m\u001b[0m\u001b[0m\n\u001b[0;32m----> 9\u001b[0;31m \u001b[0mrotated\u001b[0m \u001b[0;34m=\u001b[0m \u001b[0mrotate\u001b[0m\u001b[0;34m(\u001b[0m\u001b[0;36m5\u001b[0m \u001b[0;34m*\u001b[0m \u001b[0mpi\u001b[0m\u001b[0;34m/\u001b[0m\u001b[0;36m3\u001b[0m\u001b[0;34m,\u001b[0m \u001b[0mv\u001b[0m\u001b[0;34m)\u001b[0m\u001b[0;34m\u001b[0m\u001b[0;34m\u001b[0m\u001b[0m\n\u001b[0m\u001b[1;32m     10\u001b[0m \u001b[0mrotated\u001b[0m\u001b[0;34m\u001b[0m\u001b[0;34m\u001b[0m\u001b[0m\n",
      "\u001b[0;32m/tmp/ipykernel_7355/3403585328.py\u001b[0m in \u001b[0;36mrotate\u001b[0;34m(radian_angle, vectors)\u001b[0m\n\u001b[1;32m      1\u001b[0m \u001b[0;32mdef\u001b[0m \u001b[0mrotate\u001b[0m\u001b[0;34m(\u001b[0m\u001b[0mradian_angle\u001b[0m\u001b[0;34m,\u001b[0m \u001b[0mvectors\u001b[0m\u001b[0;34m)\u001b[0m\u001b[0;34m:\u001b[0m\u001b[0;34m\u001b[0m\u001b[0;34m\u001b[0m\u001b[0m\n\u001b[0;32m----> 2\u001b[0;31m     \u001b[0mpolar_coordinates\u001b[0m \u001b[0;34m=\u001b[0m \u001b[0;34m[\u001b[0m\u001b[0mto_polar\u001b[0m\u001b[0;34m(\u001b[0m\u001b[0mv\u001b[0m\u001b[0;34m)\u001b[0m \u001b[0;32mfor\u001b[0m \u001b[0mv\u001b[0m \u001b[0;32min\u001b[0m \u001b[0mvectors\u001b[0m\u001b[0;34m]\u001b[0m\u001b[0;34m\u001b[0m\u001b[0;34m\u001b[0m\u001b[0m\n\u001b[0m\u001b[1;32m      3\u001b[0m     \u001b[0mrotated_polar\u001b[0m \u001b[0;34m=\u001b[0m \u001b[0;34m[\u001b[0m\u001b[0;34m(\u001b[0m\u001b[0ml\u001b[0m\u001b[0;34m,\u001b[0m \u001b[0mangle\u001b[0m \u001b[0;34m+\u001b[0m \u001b[0mrotation_angle\u001b[0m\u001b[0;34m)\u001b[0m \u001b[0;32mfor\u001b[0m \u001b[0ml\u001b[0m\u001b[0;34m,\u001b[0m \u001b[0mangle\u001b[0m \u001b[0;32min\u001b[0m \u001b[0mpolar_coordinates\u001b[0m\u001b[0;34m]\u001b[0m\u001b[0;34m\u001b[0m\u001b[0;34m\u001b[0m\u001b[0m\n\u001b[1;32m      4\u001b[0m     \u001b[0mcartesian_rotated\u001b[0m \u001b[0;34m=\u001b[0m \u001b[0;34m[\u001b[0m\u001b[0mto_cartesian\u001b[0m\u001b[0;34m(\u001b[0m\u001b[0mp\u001b[0m\u001b[0;34m)\u001b[0m \u001b[0;32mfor\u001b[0m \u001b[0mp\u001b[0m \u001b[0;32min\u001b[0m \u001b[0mrotated_polar\u001b[0m\u001b[0;34m]\u001b[0m\u001b[0;34m\u001b[0m\u001b[0;34m\u001b[0m\u001b[0m\n\u001b[1;32m      5\u001b[0m     \u001b[0;32mreturn\u001b[0m \u001b[0mcartesian_rotated\u001b[0m\u001b[0;34m\u001b[0m\u001b[0;34m\u001b[0m\u001b[0m\n",
      "\u001b[0;32m/tmp/ipykernel_7355/3403585328.py\u001b[0m in \u001b[0;36m<listcomp>\u001b[0;34m(.0)\u001b[0m\n\u001b[1;32m      1\u001b[0m \u001b[0;32mdef\u001b[0m \u001b[0mrotate\u001b[0m\u001b[0;34m(\u001b[0m\u001b[0mradian_angle\u001b[0m\u001b[0;34m,\u001b[0m \u001b[0mvectors\u001b[0m\u001b[0;34m)\u001b[0m\u001b[0;34m:\u001b[0m\u001b[0;34m\u001b[0m\u001b[0;34m\u001b[0m\u001b[0m\n\u001b[0;32m----> 2\u001b[0;31m     \u001b[0mpolar_coordinates\u001b[0m \u001b[0;34m=\u001b[0m \u001b[0;34m[\u001b[0m\u001b[0mto_polar\u001b[0m\u001b[0;34m(\u001b[0m\u001b[0mv\u001b[0m\u001b[0;34m)\u001b[0m \u001b[0;32mfor\u001b[0m \u001b[0mv\u001b[0m \u001b[0;32min\u001b[0m \u001b[0mvectors\u001b[0m\u001b[0;34m]\u001b[0m\u001b[0;34m\u001b[0m\u001b[0;34m\u001b[0m\u001b[0m\n\u001b[0m\u001b[1;32m      3\u001b[0m     \u001b[0mrotated_polar\u001b[0m \u001b[0;34m=\u001b[0m \u001b[0;34m[\u001b[0m\u001b[0;34m(\u001b[0m\u001b[0ml\u001b[0m\u001b[0;34m,\u001b[0m \u001b[0mangle\u001b[0m \u001b[0;34m+\u001b[0m \u001b[0mrotation_angle\u001b[0m\u001b[0;34m)\u001b[0m \u001b[0;32mfor\u001b[0m \u001b[0ml\u001b[0m\u001b[0;34m,\u001b[0m \u001b[0mangle\u001b[0m \u001b[0;32min\u001b[0m \u001b[0mpolar_coordinates\u001b[0m\u001b[0;34m]\u001b[0m\u001b[0;34m\u001b[0m\u001b[0;34m\u001b[0m\u001b[0m\n\u001b[1;32m      4\u001b[0m     \u001b[0mcartesian_rotated\u001b[0m \u001b[0;34m=\u001b[0m \u001b[0;34m[\u001b[0m\u001b[0mto_cartesian\u001b[0m\u001b[0;34m(\u001b[0m\u001b[0mp\u001b[0m\u001b[0;34m)\u001b[0m \u001b[0;32mfor\u001b[0m \u001b[0mp\u001b[0m \u001b[0;32min\u001b[0m \u001b[0mrotated_polar\u001b[0m\u001b[0;34m]\u001b[0m\u001b[0;34m\u001b[0m\u001b[0;34m\u001b[0m\u001b[0m\n\u001b[1;32m      5\u001b[0m     \u001b[0;32mreturn\u001b[0m \u001b[0mcartesian_rotated\u001b[0m\u001b[0;34m\u001b[0m\u001b[0;34m\u001b[0m\u001b[0m\n",
      "\u001b[0;31mNameError\u001b[0m: name 'to_polar' is not defined"
     ]
    }
   ],
   "source": [
    "def rotate(radian_angle, vectors):\n",
    "    polar_coordinates = [to_polar(v) for v in vectors]\n",
    "    rotated_polar = [(l, angle + rotation_angle) for l, angle in polar_coordinates]\n",
    "    cartesian_rotated = [to_cartesian(p) for p in rotated_polar]\n",
    "    return cartesian_rotated\n",
    "\n",
    "v = [(1, 1), (1, 2), (0, 2), (-1, 2), (-1, 1), (-1, 0), (-1, -1), (-1, -2), (0, -2), (1, -2), (1, -1), (1, 0)]\n",
    "\n",
    "rotated = rotate(5 * pi/3, v)\n",
    "rotated"
   ]
  },
  {
   "cell_type": "code",
   "execution_count": null,
   "id": "56f45a55",
   "metadata": {},
   "outputs": [],
   "source": []
  }
 ],
 "metadata": {
  "kernelspec": {
   "display_name": "Python 3 (ipykernel)",
   "language": "python",
   "name": "python3"
  },
  "language_info": {
   "codemirror_mode": {
    "name": "ipython",
    "version": 3
   },
   "file_extension": ".py",
   "mimetype": "text/x-python",
   "name": "python",
   "nbconvert_exporter": "python",
   "pygments_lexer": "ipython3",
   "version": "3.9.9"
  }
 },
 "nbformat": 4,
 "nbformat_minor": 5
}
